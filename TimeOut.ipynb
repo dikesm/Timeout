{
 "cells": [
  {
   "cell_type": "code",
   "execution_count": 118,
   "metadata": {
    "collapsed": false
   },
   "outputs": [],
   "source": [
    "#Import the library to parse the json files\n",
    "import urllib.request, json "
   ]
  },
  {
   "cell_type": "code",
   "execution_count": 119,
   "metadata": {
    "collapsed": false
   },
   "outputs": [],
   "source": [
    "#Accept  input for the users who plan to go out for food+drinks \n",
    "#usersgoing = [(n) for n in input('Enter Usernames: ').split(',')]\n",
    "#print (usersgoing)\n",
    "usersgoing=['Gary Jones','John Davis','Robert Webb']"
   ]
  },
  {
   "cell_type": "code",
   "execution_count": 120,
   "metadata": {
    "collapsed": false
   },
   "outputs": [],
   "source": [
    "#Variables to read the json files.\n",
    "users=json.load(open('users.json'))\n",
    "venues=json.load(open('venues.json'))"
   ]
  },
  {
   "cell_type": "code",
   "execution_count": 121,
   "metadata": {
    "collapsed": false
   },
   "outputs": [
    {
     "name": "stdout",
     "output_type": "stream",
     "text": [
      "Users \n",
      "Places to go:\n",
      "  Spirit House\n",
      "  Twin Dynasty\n",
      "\n",
      "\n",
      "Places to avoid:\n",
      " The Cambridge\n",
      "  There is nothing for John Davis\n",
      "  There is nothing for Gary Jones to eat.\n",
      "  There is nothing for Robert Webb to eat.\n",
      " Tally Joe\n",
      "  There is nothing for John Davis\n",
      "  There is nothing for Robert Webb to drink\n",
      " El Cantina\n",
      "  There is nothing for Robert Webb to drink\n",
      " Sultan Sofrasi\n",
      "  There is nothing for John Davis\n",
      "  There is nothing for Robert Webb to eat.\n",
      "  There is nothing for Robert Webb to drink\n",
      " Wagamama\n",
      "  There is nothing for Robert Webb to drink\n",
      " Spice of life\n",
      "  There is nothing for John Davis\n",
      "  There is nothing for Gary Jones to eat.\n",
      "  There is nothing for Robert Webb to eat.\n",
      " Fabrique\n",
      "  There is nothing for Robert Webb\n",
      "  There is nothing for Robert Webb to drink\n"
     ]
    }
   ],
   "source": [
    "venues_prev = [ item['name'] for item in venues ]\n",
    "v_venues=[]\n",
    "venues_notgoing={}\n",
    "\n",
    "'''\n",
    "Logic:\n",
    "Loop through each user \n",
    "    Check if the user is going\n",
    "        For the user\n",
    "            Loop through each venue \n",
    "                If he gets what he wants to eat & drink then save the venue in a list.\n",
    "                If he doesn't get what he want to eat, the save the username & reason for that venue.\n",
    "            Get the list of all venues where he can get & drink.\n",
    "            Get the list of venues where he cannot drink & reason.\n",
    "            Get common venues from the current venue list & previous venue list & print.\n",
    "            Get all the venues where the users cannot go & reason for that.\n",
    "'''\n",
    "\n",
    "for u in users:\n",
    "    if u['name'] in usersgoing:\n",
    "        for v in venues:\n",
    "            userwonteat_, venueeat_ = map(set, [map(str.lower, set(u['wont_eat'])), map(str.lower, set(v['food']))])\n",
    "            userdrink_, venuedrink_ = map(set, [map(str.lower, set(u['drinks'])), map(str.lower, set(v['drinks']))])\n",
    "            if bool(userwonteat_ & venueeat_)==False and bool(userdrink_ & venuedrink_)==True:\n",
    "                v_venues.append(v['name'])\n",
    "            if bool(userwonteat_ & venueeat_)==True:\n",
    "                if v['name'] in venues_notgoing.keys():  \n",
    "                    venues_notgoing[v['name']].append('There is nothing for '+u['name']+' to eat.')  \n",
    "                else:  \n",
    "                    venues_notgoing[v['name']] =   ['There is nothing for '+u['name']]\n",
    "            if bool(userdrink_ & venuedrink_)==False:\n",
    "                if v['name'] in venues_notgoing.keys():  \n",
    "                    venues_notgoing[v['name']].append('There is nothing for '+u['name']+' to drink')  \n",
    "                else:  \n",
    "                    venues_notgoing[v['name']] = ['There is nothing for '+u['name']+' to drink']\n",
    "        v_venues_reason=set()\n",
    "        venues_curr=set(venues_prev).intersection(v_venues)\n",
    "        venues_prev=venues_curr\n",
    "        v_venues=[]\n",
    "print('Users ')        \n",
    "print('Places to go:')\n",
    "for p in venues_curr: print ('  '+p)\n",
    "print(1*'\\n')\n",
    "print('Places to avoid:')\n",
    "for keys,values in venues_notgoing.items():\n",
    "    print (' '+keys)\n",
    "    for v in values: print ('  '+v)\n",
    "\n",
    "\n"
   ]
  }
 ],
 "metadata": {
  "anaconda-cloud": {},
  "kernelspec": {
   "display_name": "Python [Root]",
   "language": "python",
   "name": "Python [Root]"
  },
  "language_info": {
   "codemirror_mode": {
    "name": "ipython",
    "version": 3
   },
   "file_extension": ".py",
   "mimetype": "text/x-python",
   "name": "python",
   "nbconvert_exporter": "python",
   "pygments_lexer": "ipython3",
   "version": "3.5.2"
  }
 },
 "nbformat": 4,
 "nbformat_minor": 0
}
